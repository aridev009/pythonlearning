{
 "cells": [
  {
   "cell_type": "code",
   "execution_count": 8,
   "metadata": {},
   "outputs": [
    {
     "name": "stdout",
     "output_type": "stream",
     "text": [
      "[1, 11, 19, 87]\n"
     ]
    }
   ],
   "source": [
    "list= [1,11,19,87]\n",
    "print (list) #prints the list with items."
   ]
  },
  {
   "cell_type": "code",
   "execution_count": 10,
   "metadata": {},
   "outputs": [
    {
     "name": "stdout",
     "output_type": "stream",
     "text": [
      "1\n",
      "19\n",
      "87\n"
     ]
    }
   ],
   "source": [
    "print (list[0]) #prints 1st item\n",
    "print (list[2]) #prints 3rd item\n",
    "print (list[-1]) #prints last item"
   ]
  },
  {
   "cell_type": "code",
   "execution_count": 13,
   "metadata": {},
   "outputs": [
    {
     "name": "stdout",
     "output_type": "stream",
     "text": [
      "[1, 11, 19]\n",
      "[11, 19]\n"
     ]
    }
   ],
   "source": [
    "print(list[0:3]) #prints first 3 items\n",
    "print(list[1:3]) #prints 2nd and 3rd item"
   ]
  },
  {
   "cell_type": "code",
   "execution_count": 18,
   "metadata": {},
   "outputs": [
    {
     "name": "stdout",
     "output_type": "stream",
     "text": [
      "[1, 11, 19, 87, 22, 12, 92]\n"
     ]
    }
   ],
   "source": [
    "list2 = [22,12,92]  #created a second list.\n",
    "list3 = list+list2 #concatenation of lists\n",
    "print (list3) #prints the concatenated list"
   ]
  },
  {
   "cell_type": "code",
   "execution_count": 19,
   "metadata": {},
   "outputs": [],
   "source": [
    "list3.append(17) #add a new number at the end of the list"
   ]
  },
  {
   "cell_type": "code",
   "execution_count": 20,
   "metadata": {},
   "outputs": [
    {
     "name": "stdout",
     "output_type": "stream",
     "text": [
      "[1, 11, 19, 87, 22, 12, 92, 17]\n"
     ]
    }
   ],
   "source": [
    "print(list3)"
   ]
  },
  {
   "cell_type": "code",
   "execution_count": 21,
   "metadata": {},
   "outputs": [
    {
     "name": "stdout",
     "output_type": "stream",
     "text": [
      "[29, 1, 11, 19, 87, 22, 12, 92, 17]\n"
     ]
    }
   ],
   "source": [
    "list3.insert(0,29) #insert the number(29) at the first index and shift the list to right\n",
    "print(list3)"
   ]
  },
  {
   "cell_type": "code",
   "execution_count": 22,
   "metadata": {},
   "outputs": [
    {
     "name": "stdout",
     "output_type": "stream",
     "text": [
      "[29, 1, 11, 19, 87, 22, 12, 92]\n"
     ]
    }
   ],
   "source": [
    "list3.pop() #removes the last number from list\n",
    "print (list3)"
   ]
  },
  {
   "cell_type": "code",
   "execution_count": 23,
   "metadata": {},
   "outputs": [
    {
     "name": "stdout",
     "output_type": "stream",
     "text": [
      "[29, 1, 11, 87, 22, 12, 92]\n"
     ]
    }
   ],
   "source": [
    "list3.pop(3) #removes the 3rd index number ie 19\n",
    "print (list3)"
   ]
  },
  {
   "cell_type": "code",
   "execution_count": 24,
   "metadata": {},
   "outputs": [
    {
     "name": "stdout",
     "output_type": "stream",
     "text": [
      "[29, 1, 11, 22, 12, 92]\n"
     ]
    }
   ],
   "source": [
    "list3.remove(87) #removes perticular value for eg 87 in this case\n",
    "print (list3)"
   ]
  },
  {
   "cell_type": "code",
   "execution_count": 37,
   "metadata": {},
   "outputs": [
    {
     "name": "stdout",
     "output_type": "stream",
     "text": [
      "[29, 1, 11, 22, 12, 92]\n",
      "<class 'list'>\n",
      "6\n",
      "['aaa', 1, 11, 22, 12, 92]\n"
     ]
    }
   ],
   "source": [
    "print (list3)\n",
    "print (type(list3)) #data type\n",
    "print (len(list3))\n",
    "list3[0]=\"aaa\" #replaces the 1st element with new element\n",
    "print (list3)"
   ]
  },
  {
   "cell_type": "code",
   "execution_count": 29,
   "metadata": {},
   "outputs": [
    {
     "name": "stdout",
     "output_type": "stream",
     "text": [
      "['Hello', 'World', 1987]\n",
      "[['Hello', 'World', 1987], [1, 2]]\n"
     ]
    }
   ],
   "source": [
    "my_list=[\"Hello\", \"World\", 1987]\n",
    "list_list=[[\"Hello\", \"World\", 1987],[1,2]] #list of list\n",
    "print (my_list)\n",
    "print (list_list)"
   ]
  },
  {
   "cell_type": "code",
   "execution_count": 36,
   "metadata": {},
   "outputs": [
    {
     "name": "stdout",
     "output_type": "stream",
     "text": [
      "2\n",
      "3\n",
      "['Hello', 'World', 1987]\n",
      "[1, 2]\n",
      "Hello\n",
      "2\n"
     ]
    }
   ],
   "source": [
    "print (len(list_list)) \n",
    "print (len(my_list))\n",
    "print(list_list[0]) #prints 1st list of list\n",
    "print(list_list[1]) #prints 2nd list of list\n",
    "print(list_list[0][0]) #print 1st element of 1st list from list of list\n",
    "print(list_list[1][1]) #print 2nd element from 2nd list"
   ]
  },
  {
   "cell_type": "code",
   "execution_count": 43,
   "metadata": {},
   "outputs": [
    {
     "name": "stdout",
     "output_type": "stream",
     "text": [
      "87\n",
      "('ari', 'piy', 87, 92)\n"
     ]
    },
    {
     "ename": "TypeError",
     "evalue": "'tuple' object does not support item assignment",
     "output_type": "error",
     "traceback": [
      "\u001b[1;31m---------------------------------------------------------------------------\u001b[0m",
      "\u001b[1;31mTypeError\u001b[0m                                 Traceback (most recent call last)",
      "\u001b[1;32m<ipython-input-43-47bb52f5523b>\u001b[0m in \u001b[0;36m<module>\u001b[1;34m\u001b[0m\n\u001b[0;32m      2\u001b[0m \u001b[0mprint\u001b[0m \u001b[1;33m(\u001b[0m\u001b[0mtup\u001b[0m\u001b[1;33m[\u001b[0m\u001b[1;36m2\u001b[0m\u001b[1;33m]\u001b[0m\u001b[1;33m)\u001b[0m\u001b[1;33m\u001b[0m\u001b[1;33m\u001b[0m\u001b[0m\n\u001b[0;32m      3\u001b[0m \u001b[0mprint\u001b[0m \u001b[1;33m(\u001b[0m\u001b[0mtup\u001b[0m\u001b[1;33m)\u001b[0m\u001b[1;33m\u001b[0m\u001b[1;33m\u001b[0m\u001b[0m\n\u001b[1;32m----> 4\u001b[1;33m \u001b[0mtup\u001b[0m\u001b[1;33m[\u001b[0m\u001b[1;36m0\u001b[0m\u001b[1;33m]\u001b[0m\u001b[1;33m=\u001b[0m\u001b[1;34m\"jijo\"\u001b[0m\u001b[1;33m\u001b[0m\u001b[1;33m\u001b[0m\u001b[0m\n\u001b[0m\u001b[0;32m      5\u001b[0m \u001b[0mprint\u001b[0m \u001b[1;33m(\u001b[0m\u001b[0mtup\u001b[0m\u001b[1;33m)\u001b[0m\u001b[1;33m\u001b[0m\u001b[1;33m\u001b[0m\u001b[0m\n",
      "\u001b[1;31mTypeError\u001b[0m: 'tuple' object does not support item assignment"
     ]
    }
   ],
   "source": [
    "tup = (\"ari\",\"piy\",87,92) #its a tupple. created with paranthesis (). datas can't be changed\n",
    "print (tup[2])\n",
    "print (tup)\n",
    "tup[0]=\"jijo\"\n",
    "print (tup) #tuples are immutable, you can't change\n"
   ]
  }
 ],
 "metadata": {
  "kernelspec": {
   "display_name": "Python 3",
   "language": "python",
   "name": "python3"
  },
  "language_info": {
   "codemirror_mode": {
    "name": "ipython",
    "version": 3
   },
   "file_extension": ".py",
   "mimetype": "text/x-python",
   "name": "python",
   "nbconvert_exporter": "python",
   "pygments_lexer": "ipython3",
   "version": "3.7.1"
  }
 },
 "nbformat": 4,
 "nbformat_minor": 2
}
